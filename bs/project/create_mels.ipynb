{
 "cells": [
  {
   "cell_type": "code",
   "execution_count": 1,
   "metadata": {},
   "outputs": [],
   "source": [
    "import os\n",
    "import re\n",
    "import _pickle as pickle\n",
    "import librosa\n",
    "import numpy as np\n",
    "import librosa\n",
    "DATASET_DIR = 'dataset/geners/'\n",
    "CLASSES = ['blues', 'classical', 'country', 'disco', 'hiphop', 'jazz', 'metal', 'pop', 'reggae', 'rock']\n",
    "CLASSES_DICT = {g:i for i,g in enumerate(CLASSES)}\n",
    "DEFAULT_SHAPE = (128, 647)"
   ]
  },
  {
   "cell_type": "code",
   "execution_count": 2,
   "metadata": {},
   "outputs": [],
   "source": [
    "def get_genre_from_path(song_path):\n",
    "    m = re.search(r'([a-z]+).\\d{5}.(au|mp3)', song_path)\n",
    "    return m.groups(0)[0]\n",
    "\n",
    "def fix_shape(spectogram, default_shape=DEFAULT_SHAPE):\n",
    "    if spectogram.shape[1] < default_shape[1]:\n",
    "        diff = default_shape[1] - spectogram.shape[1]\n",
    "        return np.append(spectogram, np.zeros((spectogram.shape[0], diff)), axis=1)\n",
    "    if spectogram.shape[1] > default_shape[1]:\n",
    "        return spectogram[:, :default_shape[1]]\n",
    "    return spectogram\n",
    "\n",
    "\n",
    "def process_song(song_path, overwrite=False):\n",
    "    basename, extension = os.path.splitext(song_path)\n",
    "    if extension in ('.mp3', '.au'):\n",
    "        y, sr = librosa.load(song_path, mono=True)\n",
    "        spectogram = librosa.feature.melspectrogram(y=y, sr=sr, n_mels=128, n_fft=2048, hop_length=1024)\n",
    "        spectogram = librosa.power_to_db(spectogram, ref=np.max)\n",
    "        spectogram = fix_shape(spectogram)\n",
    "        class_name = get_genre_from_path(song_path)\n",
    "        with open(basename + '.pickle', 'wb') as f:\n",
    "            f.write(pickle.dumps((spectogram, CLASSES_DICT[class_name])))    \n",
    "\n",
    "        \n",
    "    \n",
    "def process_songs_in_dir(dirname, overwrite=False):\n",
    "    for filename in os.listdir(dirname):\n",
    "        song_path = os.path.join(dirname, filename)\n",
    "        if os.path.isdir(song_path):\n",
    "            process_songs_in_dir(song_path, overwrite=overwrite)\n",
    "            continue\n",
    "        process_song(song_path, overwrite=overwrite)\n",
    "\n",
    "process_songs_in_dir(DATASET_DIR)"
   ]
  }
 ],
 "metadata": {
  "kernelspec": {
   "display_name": "Python 3",
   "language": "python",
   "name": "python3"
  },
  "language_info": {
   "codemirror_mode": {
    "name": "ipython",
    "version": 3
   },
   "file_extension": ".py",
   "mimetype": "text/x-python",
   "name": "python",
   "nbconvert_exporter": "python",
   "pygments_lexer": "ipython3",
   "version": "3.6.5"
  }
 },
 "nbformat": 4,
 "nbformat_minor": 2
}
