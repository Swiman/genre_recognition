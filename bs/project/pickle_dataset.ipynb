{
 "cells": [
  {
   "cell_type": "code",
   "execution_count": 1,
   "metadata": {},
   "outputs": [],
   "source": [
    "import os\n",
    "import _pickle as pickle\n",
    "import numpy as np\n",
    "dataset_dir = \"dataset/geners/\"\n",
    "CLASSES = ['blues', 'classical', 'country', 'disco', 'hiphop', 'jazz', 'metal', 'pop', 'reggae', 'rock']\n",
    "CLASSES_DICT = {g: i for i, g in enumerate(CLASSES)}\n",
    "DEFAULT_SHAPE = (128, 647)"
   ]
  },
  {
   "cell_type": "code",
   "execution_count": 2,
   "metadata": {},
   "outputs": [],
   "source": [
    "def get_class_vector(class_index):\n",
    "    vector = np.zeros(len(CLASSES))\n",
    "    vector[class_index] = 1\n",
    "    return vector\n",
    "\n",
    "def process_song(song_path):\n",
    "    basename, extension = os.path.splitext(song_path)\n",
    "    if extension == '.pickle':\n",
    "        picklefile = basename + extension\n",
    "        with open(picklefile, 'rb') as f:\n",
    "            spectogram, class_index = pickle.load(f)\n",
    "        return spectogram, get_class_vector(class_index)\n",
    "    return None,None\n",
    "    \n",
    "\n",
    "def process_songs_in_dir(dirname):\n",
    "    spectograms = []\n",
    "    classes = []\n",
    "    for filename in os.listdir(dirname):\n",
    "        song_path = os.path.join(dirname, filename)\n",
    "        if os.path.isdir(song_path):\n",
    "            spcs, clss = process_songs_in_dir(song_path)\n",
    "            spectograms.extend(spcs)\n",
    "            classes.extend(clss)\n",
    "            continue\n",
    "        song_spectogram, class_vector = process_song(song_path)\n",
    "        if song_spectogram is not None:\n",
    "            spectograms.append(song_spectogram)\n",
    "            classes.append(class_vector)\n",
    "    return spectograms, classes\n",
    "\n",
    "spectograms, classes = process_songs_in_dir(dataset_dir)"
   ]
  },
  {
   "cell_type": "code",
   "execution_count": 3,
   "metadata": {},
   "outputs": [],
   "source": [
    "X = np.array(spectograms)\n",
    "y = np.array(classes)\n",
    "with open(('geners.pickle'), 'wb') as f:\n",
    "    f.write(pickle.dumps([X, y]))"
   ]
  }
 ],
 "metadata": {
  "kernelspec": {
   "display_name": "Python 3",
   "language": "python",
   "name": "python3"
  },
  "language_info": {
   "codemirror_mode": {
    "name": "ipython",
    "version": 3
   },
   "file_extension": ".py",
   "mimetype": "text/x-python",
   "name": "python",
   "nbconvert_exporter": "python",
   "pygments_lexer": "ipython3",
   "version": "3.6.5"
  }
 },
 "nbformat": 4,
 "nbformat_minor": 2
}
